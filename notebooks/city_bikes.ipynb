{
 "cells": [
  {
   "attachments": {},
   "cell_type": "markdown",
   "metadata": {},
   "source": [
    "# CityBikes"
   ]
  },
  {
   "attachments": {},
   "cell_type": "markdown",
   "metadata": {},
   "source": [
    "Send a request to CityBikes for the city of your choice. "
   ]
  },
  {
   "cell_type": "code",
   "execution_count": 1,
   "metadata": {},
   "outputs": [],
   "source": [
    "import pandas as pd\n",
    "import requests\n",
    "import os\n",
    "import json\n",
    "from IPython.display import JSON\n",
    "import matplotlib.pyplot as plt"
   ]
  },
  {
   "cell_type": "code",
   "execution_count": 2,
   "metadata": {},
   "outputs": [],
   "source": [
    "# this is the given URL from the city bikes API\n",
    "\n",
    "url = \"http://api.citybik.es/v2/networks\""
   ]
  },
  {
   "cell_type": "code",
   "execution_count": 3,
   "metadata": {},
   "outputs": [],
   "source": [
    "# like many other APIs, we can set up parameters that we can work with and follow the API documentation\n",
    "# on how they want it set up. Here we submit them through fields\n",
    "\n",
    "params = {\n",
    "    'fields':'id,name,href'\n",
    "}\n",
    "# The line below creates the call to the API with our edited parameters and/or authorization\n",
    "# We test below with \"response.json()\", but the output is lengthy and commented out for space conservation\n",
    "response = requests.get(url = url, params=params)\n",
    "# response.json()"
   ]
  },
  {
   "cell_type": "code",
   "execution_count": 4,
   "metadata": {},
   "outputs": [],
   "source": [
    "# from the \"response.json()\" I found Leipzig and the string required to call it. \n",
    "leipzig = '/nextbike-leipzig'\n",
    "\n",
    "#response is then updated to include Leipzig\n",
    "response = requests.get(url = url + leipzig)\n",
    "# type(response)\n",
    "# response.json()\n"
   ]
  },
  {
   "attachments": {},
   "cell_type": "markdown",
   "metadata": {},
   "source": [
    "Parse through the response to get the details you want for the bike stations in that city (latitude, longitude, number of bikes). "
   ]
  },
  {
   "cell_type": "code",
   "execution_count": 6,
   "metadata": {},
   "outputs": [],
   "source": [
    "# create a dataframe from the url that we were working with\n",
    "\n",
    "df_city_bike = response.json()"
   ]
  },
  {
   "cell_type": "code",
   "execution_count": 8,
   "metadata": {},
   "outputs": [
    {
     "data": {
      "text/plain": [
       "88"
      ]
     },
     "execution_count": 8,
     "metadata": {},
     "output_type": "execute_result"
    }
   ],
   "source": [
    "# we find stations holds information about the latitude, longitude and the number of free bikes available.\n",
    "# create a variable of ease of use\n",
    "\n",
    "stations = df_city_bike['network']['stations']\n",
    "\n",
    "# check the length of the new variable to see if it has an appropriate number of locations to work with and\n",
    "# for API limits\n",
    "\n",
    "len(stations)"
   ]
  },
  {
   "cell_type": "code",
   "execution_count": 11,
   "metadata": {},
   "outputs": [],
   "source": [
    "# create new lists to hold the chosen information from the city bikes API\n",
    "\n",
    "free_bikes = []\n",
    "station_name = []\n",
    "latitude = []\n",
    "longitude = []\n",
    "\n",
    "for station in stations:\n",
    "    free_bikes.append(station[\"free_bikes\"])\n",
    "    station_name.append(station[\"name\"])\n",
    "    latitude.append(station[\"latitude\"])\n",
    "    longitude.append(station[\"longitude\"])"
   ]
  },
  {
   "attachments": {},
   "cell_type": "markdown",
   "metadata": {},
   "source": [
    "Put your parsed results into a DataFrame."
   ]
  },
  {
   "cell_type": "code",
   "execution_count": 14,
   "metadata": {},
   "outputs": [
    {
     "data": {
      "text/html": [
       "<div>\n",
       "<style scoped>\n",
       "    .dataframe tbody tr th:only-of-type {\n",
       "        vertical-align: middle;\n",
       "    }\n",
       "\n",
       "    .dataframe tbody tr th {\n",
       "        vertical-align: top;\n",
       "    }\n",
       "\n",
       "    .dataframe thead th {\n",
       "        text-align: right;\n",
       "    }\n",
       "</style>\n",
       "<table border=\"1\" class=\"dataframe\">\n",
       "  <thead>\n",
       "    <tr style=\"text-align: right;\">\n",
       "      <th></th>\n",
       "      <th>free_bikes</th>\n",
       "      <th>station_name</th>\n",
       "      <th>latitude</th>\n",
       "      <th>longitude</th>\n",
       "    </tr>\n",
       "  </thead>\n",
       "  <tbody>\n",
       "    <tr>\n",
       "      <th>0</th>\n",
       "      <td>10</td>\n",
       "      <td>VELO-CITY / Hauptbahnhof/LVB-Mobilitätszentrale</td>\n",
       "      <td>51.343658</td>\n",
       "      <td>12.378786</td>\n",
       "    </tr>\n",
       "    <tr>\n",
       "      <th>1</th>\n",
       "      <td>0</td>\n",
       "      <td>Virchowstr. (LVB Mobilitätsstation 23)</td>\n",
       "      <td>51.375490</td>\n",
       "      <td>12.378652</td>\n",
       "    </tr>\n",
       "    <tr>\n",
       "      <th>2</th>\n",
       "      <td>1</td>\n",
       "      <td>S-Bhf. Leutzsch</td>\n",
       "      <td>51.353337</td>\n",
       "      <td>12.303199</td>\n",
       "    </tr>\n",
       "    <tr>\n",
       "      <th>3</th>\n",
       "      <td>8</td>\n",
       "      <td>Siemens AG</td>\n",
       "      <td>51.350020</td>\n",
       "      <td>12.291401</td>\n",
       "    </tr>\n",
       "    <tr>\n",
       "      <th>4</th>\n",
       "      <td>0</td>\n",
       "      <td>Galopprennbahn (Vorplatz/Zufahrtsstraße)</td>\n",
       "      <td>51.326737</td>\n",
       "      <td>12.358117</td>\n",
       "    </tr>\n",
       "    <tr>\n",
       "      <th>...</th>\n",
       "      <td>...</td>\n",
       "      <td>...</td>\n",
       "      <td>...</td>\n",
       "      <td>...</td>\n",
       "    </tr>\n",
       "    <tr>\n",
       "      <th>83</th>\n",
       "      <td>0</td>\n",
       "      <td>VELO-CITY / Bayrischer Bhf</td>\n",
       "      <td>51.330330</td>\n",
       "      <td>12.380921</td>\n",
       "    </tr>\n",
       "    <tr>\n",
       "      <th>84</th>\n",
       "      <td>0</td>\n",
       "      <td>VELO-CITY / BurgPlatz</td>\n",
       "      <td>51.337020</td>\n",
       "      <td>12.373170</td>\n",
       "    </tr>\n",
       "    <tr>\n",
       "      <th>85</th>\n",
       "      <td>0</td>\n",
       "      <td>VELO-CITY / ThomasKirche</td>\n",
       "      <td>51.339631</td>\n",
       "      <td>12.373137</td>\n",
       "    </tr>\n",
       "    <tr>\n",
       "      <th>86</th>\n",
       "      <td>0</td>\n",
       "      <td>VELO-CITY / GoerdelerRing</td>\n",
       "      <td>51.343923</td>\n",
       "      <td>12.370262</td>\n",
       "    </tr>\n",
       "    <tr>\n",
       "      <th>87</th>\n",
       "      <td>4</td>\n",
       "      <td>Velocity Messe Leipzig</td>\n",
       "      <td>51.397428</td>\n",
       "      <td>12.398913</td>\n",
       "    </tr>\n",
       "  </tbody>\n",
       "</table>\n",
       "<p>88 rows × 4 columns</p>\n",
       "</div>"
      ],
      "text/plain": [
       "    free_bikes                                     station_name   latitude  \\\n",
       "0           10  VELO-CITY / Hauptbahnhof/LVB-Mobilitätszentrale  51.343658   \n",
       "1            0           Virchowstr. (LVB Mobilitätsstation 23)  51.375490   \n",
       "2            1                                  S-Bhf. Leutzsch  51.353337   \n",
       "3            8                                       Siemens AG  51.350020   \n",
       "4            0         Galopprennbahn (Vorplatz/Zufahrtsstraße)  51.326737   \n",
       "..         ...                                              ...        ...   \n",
       "83           0                       VELO-CITY / Bayrischer Bhf  51.330330   \n",
       "84           0                            VELO-CITY / BurgPlatz  51.337020   \n",
       "85           0                         VELO-CITY / ThomasKirche  51.339631   \n",
       "86           0                        VELO-CITY / GoerdelerRing  51.343923   \n",
       "87           4                           Velocity Messe Leipzig  51.397428   \n",
       "\n",
       "    longitude  \n",
       "0   12.378786  \n",
       "1   12.378652  \n",
       "2   12.303199  \n",
       "3   12.291401  \n",
       "4   12.358117  \n",
       "..        ...  \n",
       "83  12.380921  \n",
       "84  12.373170  \n",
       "85  12.373137  \n",
       "86  12.370262  \n",
       "87  12.398913  \n",
       "\n",
       "[88 rows x 4 columns]"
      ]
     },
     "execution_count": 14,
     "metadata": {},
     "output_type": "execute_result"
    }
   ],
   "source": [
    "# combine created lists into a zipped list\n",
    "\n",
    "Leipzig_list = list(zip(free_bikes, station_name, latitude, longitude))\n",
    "\n",
    "# convert the list into a dataframe and name the columns appropriately\n",
    "df_Leipzig = pd.DataFrame(Leipzig_list)\n",
    "df_Leipzig.columns = ['free_bikes', 'station_name', 'latitude', 'longitude']\n",
    "#type(df_Leipzig)      # test to see if a dataframe is returned, and it was.\n",
    "df_Leipzig"
   ]
  },
  {
   "cell_type": "code",
   "execution_count": 15,
   "metadata": {},
   "outputs": [],
   "source": [
    "# convert the data frame into a csv for ease of access.\n",
    "df_Leipzig.to_csv('Leipzig.csv')"
   ]
  },
  {
   "cell_type": "code",
   "execution_count": 18,
   "metadata": {},
   "outputs": [
    {
     "data": {
      "image/png": "[encoded data removed]",
      "text/plain": [
       "<Figure size 640x480 with 1 Axes>"
      ]
     },
     "metadata": {},
     "output_type": "display_data"
    }
   ],
   "source": [
    "# view distribution of bikes\n",
    "\n",
    "hist = df_Leipzig['free_bikes'].hist(bins=30)"
   ]
  },
  {
   "cell_type": "code",
   "execution_count": null,
   "metadata": {},
   "outputs": [],
   "source": []
  }
 ],
 "metadata": {
  "kernelspec": {
   "display_name": "THE_ONE",
   "language": "python",
   "name": "the_one"
  },
  "language_info": {
   "codemirror_mode": {
    "name": "ipython",
    "version": 3
   },
   "file_extension": ".py",
   "mimetype": "text/x-python",
   "name": "python",
   "nbconvert_exporter": "python",
   "pygments_lexer": "ipython3",
   "version": "3.9.13"
  }
 },
 "nbformat": 4,
 "nbformat_minor": 4
}
