{
 "cells": [
  {
   "cell_type": "code",
   "execution_count": 1,
   "metadata": {},
   "outputs": [],
   "source": [
    "# separate csv created for submitted project. "
   ]
  },
  {
   "cell_type": "code",
   "execution_count": 2,
   "metadata": {},
   "outputs": [],
   "source": [
    "import pandas as pd\n",
    "import requests\n",
    "import os\n",
    "import json\n",
    "from IPython.display import JSON"
   ]
  },
  {
   "cell_type": "code",
   "execution_count": 3,
   "metadata": {},
   "outputs": [],
   "source": [
    "# import CSV\n",
    "# separate into usable columns\n",
    "\n",
    "Leipzig_data = pd.read_csv(\"Leipzig.csv\")\n",
    "Leipzig_lat = Leipzig_data[\"latitude\"]\n",
    "Leipzig_long = Leipzig_data[\"longitude\"]\n",
    "Leipzig_bikes = Leipzig_data[\"free_bikes\"]"
   ]
  },
  {
   "cell_type": "markdown",
   "metadata": {},
   "source": [
    "# Foursquare"
   ]
  },
  {
   "cell_type": "markdown",
   "metadata": {},
   "source": [
    "Send a request to Foursquare with a small radius (1000m) for all the bike stations in your city of choice. "
   ]
  },
  {
   "cell_type": "code",
   "execution_count": 6,
   "metadata": {
    "tags": []
   },
   "outputs": [],
   "source": [
    "# import the key for my foursquare authorization\n",
    "api_key = os.environ[\"FOURSQUARE_API_KEY\"]"
   ]
  },
  {
   "cell_type": "code",
   "execution_count": 7,
   "metadata": {
    "tags": []
   },
   "outputs": [],
   "source": [
    "# Set up parameters according to some specifications of foursquare.\n",
    "# There is an issue with how foursquare calls parameters, so instead of setting\n",
    "\n",
    "# check for average rating, number of returns of specified categories - restauarants/ bars\n",
    "\n",
    "fields = 'name,categories,rating,features,distance'\n",
    "data_location = []\n",
    "\n",
    "for data in range(len(Leipzig_lat)):\n",
    "    url = f\"https://api.foursquare.com/v3/places/search?query=restaurant&ll={Leipzig_lat[data]},{Leipzig_long[data]}&categories=13065&fields={fields}&radius=500&limit=50\"\n",
    "\n",
    "    headers = {\n",
    "        \"accept\": \"application/json\",\n",
    "        \"Authorization\": api_key\n",
    "    }\n",
    "\n",
    "    response = requests.get(url, headers=headers).json()\n",
    "    data_location.append(response)\n",
    "# location_data   # print used to verify a usable response"
   ]
  },
  {
   "cell_type": "code",
   "execution_count": 37,
   "metadata": {
    "tags": []
   },
   "outputs": [],
   "source": [
    "# station_count = 0\n",
    "# average_rating = []\n",
    "\n",
    "# for results_list in data_location:\n",
    "#     print(len(results_list['results']))\n",
    "# for results_list in data_location: # each list of restuarants for given location \n",
    "#     if len(results_list['results']) != 0:     # checking for restaurants if they exist in list restaurants\n",
    "#         for restaurants_name in results_list['results']:     #  if restaurant exists, iterate over list of restaurants\n",
    "#             print("
   ]
  },
  {
   "cell_type": "code",
   "execution_count": 38,
   "metadata": {},
   "outputs": [],
   "source": [
    "# len(data_location[]['results'])"
   ]
  },
  {
   "cell_type": "code",
   "execution_count": 222,
   "metadata": {},
   "outputs": [],
   "source": [
    "restaurant_rating = []\n",
    "restaurant_distance = []\n",
    "\n",
    "restaurant_name = []\n",
    "for results_list in data_location: # each list of restuarants for given location \n",
    "    if len(results_list['results']) != 0:     # checking for restaurants if they exist in list restaurants\n",
    "        for restaurants_results in results_list['results']:     #  if restaurant exists, iterate over list of restaurants\n",
    "            restaurant_rating.append(restaurants_results.get('rating',-1))\n",
    "            restaurant_name.append(restaurants_results.get('name','missing_name'))\n",
    "            restaurant_distance.append(restaurants_results.get('distance',-10))\n",
    "        \n",
    "df_foursquare = pd.DataFrame([restaurant_name, restaurant_rating, restaurant_distance]).T\n",
    "df_foursquare.columns = ['name','rating','distance']\n",
    "df_foursquare.to_csv('Leipzig_restuarant_FS.csv')\n"
   ]
  },
  {
   "cell_type": "code",
   "execution_count": 220,
   "metadata": {},
   "outputs": [
    {
     "data": {
      "text/html": [
       "<div>\n",
       "<style scoped>\n",
       "    .dataframe tbody tr th:only-of-type {\n",
       "        vertical-align: middle;\n",
       "    }\n",
       "\n",
       "    .dataframe tbody tr th {\n",
       "        vertical-align: top;\n",
       "    }\n",
       "\n",
       "    .dataframe thead th {\n",
       "        text-align: right;\n",
       "    }\n",
       "</style>\n",
       "<table border=\"1\" class=\"dataframe\">\n",
       "  <thead>\n",
       "    <tr style=\"text-align: right;\">\n",
       "      <th></th>\n",
       "      <th>name</th>\n",
       "      <th>rating</th>\n",
       "      <th>distance</th>\n",
       "    </tr>\n",
       "  </thead>\n",
       "  <tbody>\n",
       "    <tr>\n",
       "      <th>0</th>\n",
       "      <td>Bagel Brothers</td>\n",
       "      <td>8.0</td>\n",
       "      <td>98</td>\n",
       "    </tr>\n",
       "    <tr>\n",
       "      <th>1</th>\n",
       "      <td>Imperii</td>\n",
       "      <td>8.4</td>\n",
       "      <td>170</td>\n",
       "    </tr>\n",
       "    <tr>\n",
       "      <th>2</th>\n",
       "      <td>Goldene Kugel</td>\n",
       "      <td>6.2</td>\n",
       "      <td>111</td>\n",
       "    </tr>\n",
       "    <tr>\n",
       "      <th>3</th>\n",
       "      <td>Planerts</td>\n",
       "      <td>7.4</td>\n",
       "      <td>210</td>\n",
       "    </tr>\n",
       "    <tr>\n",
       "      <th>4</th>\n",
       "      <td>Yasumi</td>\n",
       "      <td>7.3</td>\n",
       "      <td>216</td>\n",
       "    </tr>\n",
       "    <tr>\n",
       "      <th>...</th>\n",
       "      <td>...</td>\n",
       "      <td>...</td>\n",
       "      <td>...</td>\n",
       "    </tr>\n",
       "    <tr>\n",
       "      <th>1028</th>\n",
       "      <td>Gourmet-Restaurant FALCO</td>\n",
       "      <td>7.1</td>\n",
       "      <td>558</td>\n",
       "    </tr>\n",
       "    <tr>\n",
       "      <th>1029</th>\n",
       "      <td>Indian Curry House</td>\n",
       "      <td>-1</td>\n",
       "      <td>435</td>\n",
       "    </tr>\n",
       "    <tr>\n",
       "      <th>1030</th>\n",
       "      <td>Toskana Leipzig</td>\n",
       "      <td>-1</td>\n",
       "      <td>443</td>\n",
       "    </tr>\n",
       "    <tr>\n",
       "      <th>1031</th>\n",
       "      <td>India Gate</td>\n",
       "      <td>5.7</td>\n",
       "      <td>467</td>\n",
       "    </tr>\n",
       "    <tr>\n",
       "      <th>1032</th>\n",
       "      <td>Sole Mio</td>\n",
       "      <td>-1</td>\n",
       "      <td>483</td>\n",
       "    </tr>\n",
       "  </tbody>\n",
       "</table>\n",
       "<p>1033 rows × 3 columns</p>\n",
       "</div>"
      ],
      "text/plain": [
       "                          name rating distance\n",
       "0               Bagel Brothers    8.0       98\n",
       "1                      Imperii    8.4      170\n",
       "2                Goldene Kugel    6.2      111\n",
       "3                     Planerts    7.4      210\n",
       "4                       Yasumi    7.3      216\n",
       "...                        ...    ...      ...\n",
       "1028  Gourmet-Restaurant FALCO    7.1      558\n",
       "1029        Indian Curry House     -1      435\n",
       "1030           Toskana Leipzig     -1      443\n",
       "1031                India Gate    5.7      467\n",
       "1032                  Sole Mio     -1      483\n",
       "\n",
       "[1033 rows x 3 columns]"
      ]
     },
     "execution_count": 220,
     "metadata": {},
     "output_type": "execute_result"
    }
   ],
   "source": []
  },
  {
   "cell_type": "markdown",
   "metadata": {},
   "source": [
    "Parse through the response to get the POI (such as restaurants, bars, etc) details you want (ratings, name, location, etc)"
   ]
  },
  {
   "cell_type": "markdown",
   "metadata": {},
   "source": [
    "Put your parsed results into a DataFrame"
   ]
  },
  {
   "cell_type": "markdown",
   "metadata": {},
   "source": [
    "# Yelp"
   ]
  },
  {
   "cell_type": "markdown",
   "metadata": {},
   "source": [
    "Send a request to Yelp with a small radius (1000m) for all the bike stations in your city of choice. "
   ]
  },
  {
   "cell_type": "code",
   "execution_count": 6,
   "metadata": {},
   "outputs": [],
   "source": [
    "Yelp_API_Key = os.environ[\"Yelp_API_Key\"]"
   ]
  },
  {
   "cell_type": "code",
   "execution_count": 7,
   "metadata": {},
   "outputs": [],
   "source": [
    "Yelp_location_data = []\n",
    "\n",
    "\n",
    "for data in range(len(Leipzig_lat)):\n",
    "    url = f\"https://api.yelp.com/v3/businesses/search?latitude={Leipzig_lat[data]}&longitude={Leipzig_long[data]}&term=restaurant&radius=500&sort_by=best_match&limit=50\"\n",
    "\n",
    "    headers = {\n",
    "        'Authorization' : Yelp_API_Key,\n",
    "        'accept' : 'application/json'\n",
    "        }\n",
    "    response = requests.get(url, headers=headers).json()\n",
    "    Yelp_location_data.append(response)\n",
    "    \n",
    "\n"
   ]
  },
  {
   "cell_type": "code",
   "execution_count": 219,
   "metadata": {},
   "outputs": [],
   "source": [
    "# Yelp_location_data[0]['businesses'][0]"
   ]
  },
  {
   "cell_type": "code",
   "execution_count": null,
   "metadata": {},
   "outputs": [],
   "source": []
  },
  {
   "cell_type": "markdown",
   "metadata": {},
   "source": [
    "Parse through the response to get the POI (such as restaurants, bars, etc) details you want (ratings, name, location, etc)"
   ]
  },
  {
   "cell_type": "code",
   "execution_count": 213,
   "metadata": {
    "tags": []
   },
   "outputs": [],
   "source": [
    "Yelp_name = []\n",
    "Yelp_rating = []\n",
    "Yelp_distance = []\n",
    "\n",
    "Yelp_location_data\n",
    "\n",
    "for results_list in Yelp_location_data: # each list of restuarants for given location \n",
    "    if len(results_list['businesses']) != 0:     # checking for restaurants if they exist in list restaurants\n",
    "        for restaurants_results in results_list['businesses']:     #  if restaurant exists, iterate over list of restaurants\n",
    "            Yelp_rating.append(restaurants_results.get('rating',-1))\n",
    "            Yelp_name.append(restaurants_results.get('name','missing_name'))\n",
    "            Yelp_distance.append(restaurants_results.get('distance',-10))\n",
    "    \n",
    "df_Yelp = pd.DataFrame([Yelp_name, Yelp_rating, Yelp_distance]).T\n",
    "df_Yelp.columns = ['name','rating','distance']\n",
    "df_Yelp.to_csv('Leipzig_restuarant_Yelp.csv')"
   ]
  },
  {
   "cell_type": "markdown",
   "metadata": {},
   "source": [
    "Put your parsed results into a DataFrame"
   ]
  },
  {
   "cell_type": "code",
   "execution_count": null,
   "metadata": {},
   "outputs": [],
   "source": []
  },
  {
   "cell_type": "markdown",
   "metadata": {},
   "source": [
    "# Comparing Results"
   ]
  },
  {
   "cell_type": "markdown",
   "metadata": {},
   "source": [
    "Which API provided you with more complete data? Provide an explanation. "
   ]
  },
  {
   "cell_type": "markdown",
   "metadata": {},
   "source": [
    "Going through what was available from both the Foursquare and the Yelp API, \n",
    "Foursquare had mulitple categories for rating, by both a popularity and a rating scale.\n",
    "Many of the restaurants that the list came up with had multiple geotags for both the main restuarant\n",
    "and if there was roof top seating, that was listed too.\n",
    "\n",
    "Foursquare also provided which hours were more popular than other, and included features of the restaurants, as an example whether or not it was wheelchair accessible.\n",
    "While Yelp had less available in their search, the API also took much longer to return information.\n",
    "Yelp also listed the physical addresses of the restaurants that I looked up, while foursquare did not.\n",
    "\n",
    "From attempting to answer the question below, many of the restuarants returned from Foursquare did not have a rating in their category listing."
   ]
  },
  {
   "cell_type": "markdown",
   "metadata": {},
   "source": [
    "Get the top 10 restaurants according to their rating"
   ]
  },
  {
   "cell_type": "code",
   "execution_count": 215,
   "metadata": {},
   "outputs": [
    {
     "data": {
      "text/html": [
       "<div>\n",
       "<style scoped>\n",
       "    .dataframe tbody tr th:only-of-type {\n",
       "        vertical-align: middle;\n",
       "    }\n",
       "\n",
       "    .dataframe tbody tr th {\n",
       "        vertical-align: top;\n",
       "    }\n",
       "\n",
       "    .dataframe thead th {\n",
       "        text-align: right;\n",
       "    }\n",
       "</style>\n",
       "<table border=\"1\" class=\"dataframe\">\n",
       "  <thead>\n",
       "    <tr style=\"text-align: right;\">\n",
       "      <th></th>\n",
       "      <th>name</th>\n",
       "      <th>rating</th>\n",
       "      <th>distance</th>\n",
       "    </tr>\n",
       "  </thead>\n",
       "  <tbody>\n",
       "    <tr>\n",
       "      <th>0</th>\n",
       "      <td>Imperii</td>\n",
       "      <td>5.0</td>\n",
       "      <td>168.535367</td>\n",
       "    </tr>\n",
       "    <tr>\n",
       "      <th>957</th>\n",
       "      <td>Star Pizza</td>\n",
       "      <td>5.0</td>\n",
       "      <td>238.339266</td>\n",
       "    </tr>\n",
       "    <tr>\n",
       "      <th>946</th>\n",
       "      <td>Star Pizza</td>\n",
       "      <td>5.0</td>\n",
       "      <td>346.329103</td>\n",
       "    </tr>\n",
       "    <tr>\n",
       "      <th>388</th>\n",
       "      <td>Opern Cafe</td>\n",
       "      <td>5.0</td>\n",
       "      <td>113.98194</td>\n",
       "    </tr>\n",
       "    <tr>\n",
       "      <th>386</th>\n",
       "      <td>Max Enk</td>\n",
       "      <td>5.0</td>\n",
       "      <td>220.106197</td>\n",
       "    </tr>\n",
       "    <tr>\n",
       "      <th>949</th>\n",
       "      <td>Gustav H.</td>\n",
       "      <td>5.0</td>\n",
       "      <td>455.734138</td>\n",
       "    </tr>\n",
       "    <tr>\n",
       "      <th>381</th>\n",
       "      <td>Imperii</td>\n",
       "      <td>5.0</td>\n",
       "      <td>352.668174</td>\n",
       "    </tr>\n",
       "    <tr>\n",
       "      <th>951</th>\n",
       "      <td>Chizenga Afrikanisches Haus</td>\n",
       "      <td>5.0</td>\n",
       "      <td>96.871352</td>\n",
       "    </tr>\n",
       "    <tr>\n",
       "      <th>954</th>\n",
       "      <td>Kulturcafé Knicklicht</td>\n",
       "      <td>5.0</td>\n",
       "      <td>296.341717</td>\n",
       "    </tr>\n",
       "    <tr>\n",
       "      <th>955</th>\n",
       "      <td>Reudnitzgrill</td>\n",
       "      <td>5.0</td>\n",
       "      <td>423.388709</td>\n",
       "    </tr>\n",
       "  </tbody>\n",
       "</table>\n",
       "</div>"
      ],
      "text/plain": [
       "                            name rating    distance\n",
       "0                        Imperii    5.0  168.535367\n",
       "957                   Star Pizza    5.0  238.339266\n",
       "946                   Star Pizza    5.0  346.329103\n",
       "388                   Opern Cafe    5.0   113.98194\n",
       "386                      Max Enk    5.0  220.106197\n",
       "949                    Gustav H.    5.0  455.734138\n",
       "381                      Imperii    5.0  352.668174\n",
       "951  Chizenga Afrikanisches Haus    5.0   96.871352\n",
       "954        Kulturcafé Knicklicht    5.0  296.341717\n",
       "955                Reudnitzgrill    5.0  423.388709"
      ]
     },
     "execution_count": 215,
     "metadata": {},
     "output_type": "execute_result"
    }
   ],
   "source": [
    "df_Yelp.sort_values('rating', ascending=False).head(10)"
   ]
  },
  {
   "cell_type": "code",
   "execution_count": 218,
   "metadata": {},
   "outputs": [
    {
     "data": {
      "text/html": [
       "<div>\n",
       "<style scoped>\n",
       "    .dataframe tbody tr th:only-of-type {\n",
       "        vertical-align: middle;\n",
       "    }\n",
       "\n",
       "    .dataframe tbody tr th {\n",
       "        vertical-align: top;\n",
       "    }\n",
       "\n",
       "    .dataframe thead th {\n",
       "        text-align: right;\n",
       "    }\n",
       "</style>\n",
       "<table border=\"1\" class=\"dataframe\">\n",
       "  <thead>\n",
       "    <tr style=\"text-align: right;\">\n",
       "      <th></th>\n",
       "      <th>name</th>\n",
       "      <th>rating</th>\n",
       "      <th>distance</th>\n",
       "    </tr>\n",
       "  </thead>\n",
       "  <tbody>\n",
       "    <tr>\n",
       "      <th>781</th>\n",
       "      <td>Espresso Zack Zack</td>\n",
       "      <td>8.8</td>\n",
       "      <td>391</td>\n",
       "    </tr>\n",
       "    <tr>\n",
       "      <th>351</th>\n",
       "      <td>Espresso Zack Zack</td>\n",
       "      <td>8.8</td>\n",
       "      <td>150</td>\n",
       "    </tr>\n",
       "    <tr>\n",
       "      <th>751</th>\n",
       "      <td>Bohemian Kids Cafe</td>\n",
       "      <td>8.7</td>\n",
       "      <td>394</td>\n",
       "    </tr>\n",
       "    <tr>\n",
       "      <th>213</th>\n",
       "      <td>Bohemian Kids Cafe</td>\n",
       "      <td>8.7</td>\n",
       "      <td>263</td>\n",
       "    </tr>\n",
       "    <tr>\n",
       "      <th>299</th>\n",
       "      <td>Bohemian Kids Cafe</td>\n",
       "      <td>8.7</td>\n",
       "      <td>211</td>\n",
       "    </tr>\n",
       "    <tr>\n",
       "      <th>960</th>\n",
       "      <td>Bohemian Kids Cafe</td>\n",
       "      <td>8.7</td>\n",
       "      <td>243</td>\n",
       "    </tr>\n",
       "    <tr>\n",
       "      <th>956</th>\n",
       "      <td>Ratskeller der Stadt Leipzig</td>\n",
       "      <td>8.6</td>\n",
       "      <td>101</td>\n",
       "    </tr>\n",
       "    <tr>\n",
       "      <th>210</th>\n",
       "      <td>Ratskeller der Stadt Leipzig</td>\n",
       "      <td>8.6</td>\n",
       "      <td>112</td>\n",
       "    </tr>\n",
       "    <tr>\n",
       "      <th>673</th>\n",
       "      <td>Ratskeller der Stadt Leipzig</td>\n",
       "      <td>8.6</td>\n",
       "      <td>562</td>\n",
       "    </tr>\n",
       "    <tr>\n",
       "      <th>305</th>\n",
       "      <td>Imperii</td>\n",
       "      <td>8.4</td>\n",
       "      <td>351</td>\n",
       "    </tr>\n",
       "  </tbody>\n",
       "</table>\n",
       "</div>"
      ],
      "text/plain": [
       "                             name rating distance\n",
       "781            Espresso Zack Zack    8.8      391\n",
       "351            Espresso Zack Zack    8.8      150\n",
       "751            Bohemian Kids Cafe    8.7      394\n",
       "213            Bohemian Kids Cafe    8.7      263\n",
       "299            Bohemian Kids Cafe    8.7      211\n",
       "960            Bohemian Kids Cafe    8.7      243\n",
       "956  Ratskeller der Stadt Leipzig    8.6      101\n",
       "210  Ratskeller der Stadt Leipzig    8.6      112\n",
       "673  Ratskeller der Stadt Leipzig    8.6      562\n",
       "305                       Imperii    8.4      351"
      ]
     },
     "execution_count": 218,
     "metadata": {},
     "output_type": "execute_result"
    }
   ],
   "source": [
    "df_foursquare.sort_values('rating', ascending=False).head(10)"
   ]
  },
  {
   "cell_type": "code",
   "execution_count": null,
   "metadata": {},
   "outputs": [],
   "source": []
  }
 ],
 "metadata": {
  "kernelspec": {
   "display_name": "Python 3 (ipykernel)",
   "language": "python",
   "name": "python3"
  },
  "language_info": {
   "codemirror_mode": {
    "name": "ipython",
    "version": 3
   },
   "file_extension": ".py",
   "mimetype": "text/x-python",
   "name": "python",
   "nbconvert_exporter": "python",
   "pygments_lexer": "ipython3",
   "version": "3.9.13"
  }
 },
 "nbformat": 4,
 "nbformat_minor": 4
}
