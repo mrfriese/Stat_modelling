{
 "cells": [
  {
   "cell_type": "markdown",
   "metadata": {},
   "source": [
    "# CityBikes"
   ]
  },
  {
   "cell_type": "markdown",
   "metadata": {},
   "source": [
    "Send a request to CityBikes for the city of your choice. "
   ]
  },
  {
   "cell_type": "code",
   "execution_count": 16,
   "metadata": {},
   "outputs": [],
   "source": [
    "import pandas as pd\n",
    "import requests\n",
    "import os\n",
    "import json\n",
    "from IPython.display import JSON\n",
    "import matplotlib.pyplot as plt"
   ]
  },
  {
   "cell_type": "code",
   "execution_count": 8,
   "metadata": {},
   "outputs": [],
   "source": [
    "# this is the given URL from the city bikes API\n",
    "\n",
    "url = \"http://api.citybik.es/v2/networks\""
   ]
  },
  {
   "cell_type": "code",
   "execution_count": 5,
   "metadata": {},
   "outputs": [],
   "source": [
    "# like many other APIs, we can set up parameters that we can work with and follow the API documentation\n",
    "# on how they want it set up. Here we submit them through fields\n",
    "\n",
    "params = {\n",
    "    'fields':'id,name,href'\n",
    "}\n",
    "# The line below creates the call to the API with our edited parameters and/or authorization\n",
    "# We test below with \"response.json()\", but the output is lengthy and commented out for space conservation\n",
    "response = requests.get(url = url, params=params)\n",
    "# response.json()"
   ]
  },
  {
   "cell_type": "code",
   "execution_count": 85,
   "metadata": {},
   "outputs": [],
   "source": [
    "# from the \"response.json()\" I found Leipzig and the string required to call it. \n",
    "leipzig = '/nextbike-leipzig'\n",
    "\n",
    "#response is then updated to include Leipzig\n",
    "response = requests.get(url = url + leipzig)\n",
    "# type(response)\n",
    "# response.json()\n"
   ]
  },
  {
   "cell_type": "code",
   "execution_count": null,
   "metadata": {},
   "outputs": [],
   "source": []
  },
  {
   "cell_type": "markdown",
   "metadata": {},
   "source": [
    "Parse through the response to get the details you want for the bike stations in that city (latitude, longitude, number of bikes). "
   ]
  },
  {
   "cell_type": "code",
   "execution_count": 15,
   "metadata": {},
   "outputs": [],
   "source": [
    "# df_city_bike # is commented out in the interest of space "
   ]
  },
  {
   "cell_type": "code",
   "execution_count": 10,
   "metadata": {},
   "outputs": [],
   "source": [
    "# create a dataframe from the url that we were working with\n",
    "\n",
    "df_city_bike = response.json()\n",
    "\n",
    "# Inside of the newly created dataframe we can investige at what level inside of the first dictionary is where we will\n",
    "# find the applicable information\n",
    "\n",
    "# df_city_bike -- is commented out in the interest of space \n",
    "\n",
    "# we find stations holds information about the latitude, longitude and the number of free bikes available.\n",
    "# create a variable of ease of use\n",
    "\n",
    "stations = df_city_bike['network']['stations']\n",
    "\n",
    "# check the length of the new variable to see if it has an appropriate number of locations to work with and\n",
    "# for API limits\n",
    "\n",
    "len(stations)\n",
    "\n",
    "# create new lists to hold the chosen information from the city bikes API\n",
    "\n",
    "latitude = []\n",
    "longitude = []\n",
    "free_bikes = []\n",
    "station_id = []\n",
    "\n",
    "for station in stations:\n",
    "    latitude.append(station[\"latitude\"])\n",
    "    longitude.append(station[\"longitude\"])\n",
    "    free_bikes.append(station[\"free_bikes\"])\n",
    "    station_id.append(station[\"id\"])"
   ]
  },
  {
   "cell_type": "markdown",
   "metadata": {},
   "source": [
    "Put your parsed results into a DataFrame."
   ]
  },
  {
   "cell_type": "code",
   "execution_count": 13,
   "metadata": {},
   "outputs": [
    {
     "data": {
      "text/html": [
       "<div>\n",
       "<style scoped>\n",
       "    .dataframe tbody tr th:only-of-type {\n",
       "        vertical-align: middle;\n",
       "    }\n",
       "\n",
       "    .dataframe tbody tr th {\n",
       "        vertical-align: top;\n",
       "    }\n",
       "\n",
       "    .dataframe thead th {\n",
       "        text-align: right;\n",
       "    }\n",
       "</style>\n",
       "<table border=\"1\" class=\"dataframe\">\n",
       "  <thead>\n",
       "    <tr style=\"text-align: right;\">\n",
       "      <th></th>\n",
       "      <th>latitude</th>\n",
       "      <th>longitude</th>\n",
       "      <th>free_bikes</th>\n",
       "      <th>station_id</th>\n",
       "    </tr>\n",
       "  </thead>\n",
       "  <tbody>\n",
       "    <tr>\n",
       "      <th>0</th>\n",
       "      <td>51.343658</td>\n",
       "      <td>12.378786</td>\n",
       "      <td>28</td>\n",
       "      <td>38328325ed409ad3aa15f5f2ca5c6bb5</td>\n",
       "    </tr>\n",
       "    <tr>\n",
       "      <th>1</th>\n",
       "      <td>51.375490</td>\n",
       "      <td>12.378652</td>\n",
       "      <td>5</td>\n",
       "      <td>c8b3089dfd591e99755a8658b68c794c</td>\n",
       "    </tr>\n",
       "    <tr>\n",
       "      <th>2</th>\n",
       "      <td>51.353337</td>\n",
       "      <td>12.303199</td>\n",
       "      <td>0</td>\n",
       "      <td>75cd0e7dc2103417a5fff8db4afdcc7f</td>\n",
       "    </tr>\n",
       "    <tr>\n",
       "      <th>3</th>\n",
       "      <td>51.350020</td>\n",
       "      <td>12.291401</td>\n",
       "      <td>4</td>\n",
       "      <td>0d2dd8f9c14b8bb831dab22b08801637</td>\n",
       "    </tr>\n",
       "    <tr>\n",
       "      <th>4</th>\n",
       "      <td>51.326737</td>\n",
       "      <td>12.358117</td>\n",
       "      <td>0</td>\n",
       "      <td>9b72a8c44ac030773b81a8ccfd4f66d6</td>\n",
       "    </tr>\n",
       "    <tr>\n",
       "      <th>...</th>\n",
       "      <td>...</td>\n",
       "      <td>...</td>\n",
       "      <td>...</td>\n",
       "      <td>...</td>\n",
       "    </tr>\n",
       "    <tr>\n",
       "      <th>73</th>\n",
       "      <td>51.329040</td>\n",
       "      <td>12.328080</td>\n",
       "      <td>4</td>\n",
       "      <td>3f2494716b5a993f295333c5ed002d79</td>\n",
       "    </tr>\n",
       "    <tr>\n",
       "      <th>74</th>\n",
       "      <td>51.336650</td>\n",
       "      <td>12.374810</td>\n",
       "      <td>6</td>\n",
       "      <td>15bc2fc4c2b446a6ca77564c2c95f90f</td>\n",
       "    </tr>\n",
       "    <tr>\n",
       "      <th>75</th>\n",
       "      <td>51.323876</td>\n",
       "      <td>12.321425</td>\n",
       "      <td>0</td>\n",
       "      <td>7f687e15aa2dddf84768848f0da9a975</td>\n",
       "    </tr>\n",
       "    <tr>\n",
       "      <th>76</th>\n",
       "      <td>51.300885</td>\n",
       "      <td>12.396634</td>\n",
       "      <td>1</td>\n",
       "      <td>f0332ddbc095cac00f4e1c0e95d56cce</td>\n",
       "    </tr>\n",
       "    <tr>\n",
       "      <th>77</th>\n",
       "      <td>51.344114</td>\n",
       "      <td>12.383013</td>\n",
       "      <td>10</td>\n",
       "      <td>889445c0269aeaa4eed138f0eb43d66d</td>\n",
       "    </tr>\n",
       "  </tbody>\n",
       "</table>\n",
       "<p>78 rows × 4 columns</p>\n",
       "</div>"
      ],
      "text/plain": [
       "     latitude  longitude  free_bikes                        station_id\n",
       "0   51.343658  12.378786          28  38328325ed409ad3aa15f5f2ca5c6bb5\n",
       "1   51.375490  12.378652           5  c8b3089dfd591e99755a8658b68c794c\n",
       "2   51.353337  12.303199           0  75cd0e7dc2103417a5fff8db4afdcc7f\n",
       "3   51.350020  12.291401           4  0d2dd8f9c14b8bb831dab22b08801637\n",
       "4   51.326737  12.358117           0  9b72a8c44ac030773b81a8ccfd4f66d6\n",
       "..        ...        ...         ...                               ...\n",
       "73  51.329040  12.328080           4  3f2494716b5a993f295333c5ed002d79\n",
       "74  51.336650  12.374810           6  15bc2fc4c2b446a6ca77564c2c95f90f\n",
       "75  51.323876  12.321425           0  7f687e15aa2dddf84768848f0da9a975\n",
       "76  51.300885  12.396634           1  f0332ddbc095cac00f4e1c0e95d56cce\n",
       "77  51.344114  12.383013          10  889445c0269aeaa4eed138f0eb43d66d\n",
       "\n",
       "[78 rows x 4 columns]"
      ]
     },
     "execution_count": 13,
     "metadata": {},
     "output_type": "execute_result"
    }
   ],
   "source": [
    "# combine created lists into a zipped list\n",
    "\n",
    "Leipzig_list = list(zip(latitude, longitude, free_bikes, station_id))\n",
    "\n",
    "# convert the list into a dataframe and name the columns appropriately\n",
    "df_Leipzig = pd.DataFrame(Leipzig_list)\n",
    "df_Leipzig.columns = ['latitude', 'longitude', 'free_bikes', 'station_id']\n",
    "#type(df_Leipzig)      # test to see if a dataframe is returned, and it was.\n",
    "df_Leipzig"
   ]
  },
  {
   "cell_type": "code",
   "execution_count": 14,
   "metadata": {},
   "outputs": [],
   "source": [
    "# convert the data frame into a csv for ease of access.\n",
    "df_Leipzig.to_csv('Leipzig.csv')"
   ]
  },
  {
   "cell_type": "code",
   "execution_count": 22,
   "metadata": {},
   "outputs": [
    {
     "data": {
      "image/png": "[encoded data removed]",
      "text/plain": [
       "<Figure size 640x480 with 4 Axes>"
      ]
     },
     "metadata": {},
     "output_type": "display_data"
    }
   ],
   "source": [
    "hist = df_Leipzig.hist(bins=30)"
   ]
  },
  {
   "cell_type": "code",
   "execution_count": null,
   "metadata": {},
   "outputs": [],
   "source": []
  }
 ],
 "metadata": {
  "kernelspec": {
   "display_name": "Python 3 (ipykernel)",
   "language": "python",
   "name": "python3"
  },
  "language_info": {
   "codemirror_mode": {
    "name": "ipython",
    "version": 3
   },
   "file_extension": ".py",
   "mimetype": "text/x-python",
   "name": "python",
   "nbconvert_exporter": "python",
   "pygments_lexer": "ipython3",
   "version": "3.9.13"
  }
 },
 "nbformat": 4,
 "nbformat_minor": 4
}
